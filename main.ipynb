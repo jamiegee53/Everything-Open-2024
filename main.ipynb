{
 "cells": [
  {
   "cell_type": "markdown",
   "metadata": {},
   "source": [
    "# Everything Open 2024\n",
    "WIP notebook for Everything Open. Scaffolding from `opendata_notebooks/HyyAnalysisNew.ipynb`, though we may wish to take inspiration from the other notebooks of the [ATLAS Open Data](https://atlas.cern/Resources/Opendata) page.\n",
    "\n",
    "In particular, it looks like we want to emphasize:\n",
    "## 1. Obtaining Open Data\n",
    "So things like how to acquire it, how to unpack it, what tools (packages) do you need...\n",
    "## 2. Looking at observables\n",
    "This would be things like listing off the tree keys (i.e. all the distributions that **can be plotted**), but also how to **apply selection strings, make cuts**, etc.\n",
    "## 3. Reconstructing the Higgs\n",
    "Once an idea of what we have is understood, we can show the maths to get $m_{\\gamma\\gamma}$, reconstructing the 2012 discovery of the Higgs Boson."
   ]
  },
  {
   "cell_type": "code",
   "execution_count": null,
   "metadata": {},
   "outputs": [],
   "source": []
  }
 ],
 "metadata": {
  "kernelspec": {
   "display_name": "Python 3",
   "language": "python",
   "name": "python3"
  },
  "language_info": {
   "codemirror_mode": {
    "name": "ipython",
    "version": 3
   },
   "file_extension": ".py",
   "mimetype": "text/x-python",
   "name": "python",
   "nbconvert_exporter": "python",
   "pygments_lexer": "ipython3",
   "version": "3.6.8"
  }
 },
 "nbformat": 4,
 "nbformat_minor": 2
}
